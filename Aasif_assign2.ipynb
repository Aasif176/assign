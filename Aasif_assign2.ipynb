{
 "cells": [
  {
   "cell_type": "code",
   "execution_count": 45,
   "metadata": {},
   "outputs": [
    {
     "name": "stdout",
     "output_type": "stream",
     "text": [
      "Sum of elements in the list is:21\n"
     ]
    }
   ],
   "source": [
    "##1.1 Reduce function\n",
    "def do_sum(x1, x2):\n",
    "    return x1+x2\n",
    "\n",
    "def myreduce(func, seq):\n",
    "    first = seq[0]\n",
    "    for i in seq[1:]:\n",
    "        first= func(first, i)\n",
    "    print(\"Sum of elements in the list is:\", end=\"\")\n",
    "    return first\n",
    "\n",
    "print(myreduce(do_sum, [1,2,3,4,5,6]))"
   ]
  },
  {
   "cell_type": "code",
   "execution_count": 1,
   "metadata": {},
   "outputs": [
    {
     "data": {
      "text/plain": [
       "[4, 6, 8, 4, 6, 10]"
      ]
     },
     "execution_count": 1,
     "metadata": {},
     "output_type": "execute_result"
    }
   ],
   "source": [
    "##1.2 Filter function\n",
    "def even_check(num):\n",
    "    if num%2==0:\n",
    "        return True\n",
    "    \n",
    "def myfilter(func,seq):\n",
    "    mst=[]\n",
    "    for i in seq:\n",
    "        if func(i)==True:\n",
    "            mst.append(i)\n",
    "    return(mst)\n",
    "\n",
    "lst=[1,3,4,5,6,7,8,9,1,3,4,6,10]\n",
    "list(myfilter(even_check,lst))        "
   ]
  },
  {
   "cell_type": "code",
   "execution_count": 3,
   "metadata": {},
   "outputs": [
    {
     "name": "stdout",
     "output_type": "stream",
     "text": [
      "['A', 'C', 'A', 'D', 'G', 'I', 'L', 'D']"
     ]
    }
   ],
   "source": [
    "##2 List Comprehension\n",
    "inp= \"ACADGILD\"\n",
    "lst=[]\n",
    "for i in inp:\n",
    "    lst.append(i)\n",
    "print(lst,end=\"\")\n",
    "    "
   ]
  },
  {
   "cell_type": "code",
   "execution_count": 15,
   "metadata": {},
   "outputs": [
    {
     "name": "stdout",
     "output_type": "stream",
     "text": [
      "['x', 'xx', 'xxx', 'xxxx', 'y', 'yy', 'yyy', 'yyyy', 'z', 'zz', 'zzz', 'zzzz']"
     ]
    }
   ],
   "source": [
    "inp= \"xyz\"\n",
    "lst=[]\n",
    "for i in inp:\n",
    "    for j in range(1,5):\n",
    "        lst.append(i*j)\n",
    "print(lst, end=\"\")"
   ]
  },
  {
   "cell_type": "code",
   "execution_count": 16,
   "metadata": {},
   "outputs": [
    {
     "name": "stdout",
     "output_type": "stream",
     "text": [
      "['x', 'y', 'z', 'xx', 'yy', 'zz', 'xxx', 'yyy', 'zzz', 'xxxx', 'yyyy', 'zzzz']"
     ]
    }
   ],
   "source": [
    "inp=\"xyz\"\n",
    "lst=[]\n",
    "for i in range(1,5):\n",
    "    for j in inp:\n",
    "        lst.append(i*j)\n",
    "print(lst, end=\"\")"
   ]
  },
  {
   "cell_type": "code",
   "execution_count": 40,
   "metadata": {},
   "outputs": [
    {
     "name": "stdout",
     "output_type": "stream",
     "text": [
      "[[2], [3], [4], [3], [4], [5], [4], [5], [6]]\n"
     ]
    }
   ],
   "source": [
    "inp =[2,3,4]\n",
    "lst=[]\n",
    "for i in inp:\n",
    "    for j in range(0,3):\n",
    "        lst.append([i+j])\n",
    "print(lst)"
   ]
  },
  {
   "cell_type": "code",
   "execution_count": 41,
   "metadata": {},
   "outputs": [
    {
     "name": "stdout",
     "output_type": "stream",
     "text": [
      "[[2, 3, 4, 5], [3, 4, 5, 6], [4, 5, 6, 7], [5, 6, 7, 8]]\n"
     ]
    }
   ],
   "source": [
    "inp =[2,3,4,5]\n",
    "lst=[ [i+j for i in inp] for j in range(0,4)]\n",
    "print(str(lst))"
   ]
  },
  {
   "cell_type": "code",
   "execution_count": 42,
   "metadata": {},
   "outputs": [
    {
     "name": "stdout",
     "output_type": "stream",
     "text": [
      "[(1, 1), (2, 1), (3, 1), (1, 2), (2, 2), (3, 2), (1, 3), (2, 3), (3, 3)]\n"
     ]
    }
   ],
   "source": [
    "inp= [1,2,3]\n",
    "lst= [(j,i) for i in range(1,4) for j in inp]\n",
    "print(str(lst))"
   ]
  },
  {
   "cell_type": "code",
   "execution_count": 72,
   "metadata": {},
   "outputs": [
    {
     "name": "stdout",
     "output_type": "stream",
     "text": [
      "Enter Words(with spaces):Hello Family Friends Girl Relationship\n",
      "The longest word from the list is: Relationship\n"
     ]
    }
   ],
   "source": [
    "##3 Longest Word\n",
    "def longestWord(str1):\n",
    "    longword=''\n",
    "    longsize=0\n",
    "    for i in str1:\n",
    "        if len(i) > len(longword):\n",
    "            longword=i\n",
    "            longsize=len(i)\n",
    "    return print(\"The longest word from the list is:\",longword)\n",
    "\n",
    "str1=input(\"Enter Words(with spaces):\")\n",
    "lst= str1.split()\n",
    "longestWord(lst)"
   ]
  },
  {
   "cell_type": "code",
   "execution_count": 100,
   "metadata": {},
   "outputs": [
    {
     "name": "stdout",
     "output_type": "stream",
     "text": [
      "Enter length of triangle:3\n",
      "Enter breadth of triangle:4\n",
      "Enter height of triangle:5\n",
      "The semi-perimeter is: 6.000000\n",
      "The area of triangle is: 6.000000\n"
     ]
    }
   ],
   "source": [
    "##1.1 Area of Triangle\n",
    "a= input(\"Enter length of triangle:\")\n",
    "b= input(\"Enter breadth of triangle:\")\n",
    "c= input(\"Enter height of triangle:\")\n",
    "\n",
    "class area_triangle:\n",
    "    def __init__(self,a,b,c):\n",
    "        self._a= a\n",
    "        self._b= b\n",
    "        self._c= c\n",
    "        \n",
    "class calc(area_triangle):\n",
    "    def __init__(self,a,b,c):\n",
    "        super(calc,self).__init__(a,b,c)\n",
    "        s= (int(a)+int(b)+int(c))/2\n",
    "        area= (s*(s-int(a))*(s-int(b))*(s-int(c)))**0.5\n",
    "        return print(\"The semi-perimeter is: %f\\nThe area of triangle is: %f\" % (s,area))\n",
    "t= calc(a,b,c)"
   ]
  },
  {
   "cell_type": "code",
   "execution_count": 8,
   "metadata": {},
   "outputs": [
    {
     "name": "stdout",
     "output_type": "stream",
     "text": [
      "Enter Words(with spaces):Hello Girl Boy Car Dog Friend Happy\n",
      "Enter number of characters:4\n",
      "['Hello', 'Friend', 'Happy']\n"
     ]
    }
   ],
   "source": [
    "##1.2 Filter the long words\n",
    "def filter_long_words(str1,n):\n",
    "    lst= str1.split()\n",
    "    f_lst=[]\n",
    "    for i in lst:\n",
    "        if len(i) > int(n):\n",
    "            f_lst.append(i)\n",
    "    return print(f_lst)\n",
    "\n",
    "str2=input(\"Enter Words(with spaces):\")\n",
    "m= input(\"Enter number of characters:\")\n",
    "filter_long_words(str2,m)"
   ]
  },
  {
   "cell_type": "code",
   "execution_count": 24,
   "metadata": {},
   "outputs": [
    {
     "name": "stdout",
     "output_type": "stream",
     "text": [
      "[2, 3, 4]\n"
     ]
    }
   ],
   "source": [
    "##2.1 Calculate words to integer \n",
    "def integ_words(lst):\n",
    "    return len(lst)\n",
    "    \n",
    "lst=[\"ab\",\"cde\",\"erty\"]\n",
    "\n",
    "lst1= list(map(integ_words,lst))\n",
    "\n",
    "print(lst1)"
   ]
  },
  {
   "cell_type": "code",
   "execution_count": 27,
   "metadata": {},
   "outputs": [
    {
     "name": "stdout",
     "output_type": "stream",
     "text": [
      "Enter a character to check it's a vowel or not?\tu\n"
     ]
    },
    {
     "data": {
      "text/plain": [
       "True"
      ]
     },
     "execution_count": 27,
     "metadata": {},
     "output_type": "execute_result"
    }
   ],
   "source": [
    "##2.2 Check vowel\n",
    "def check_vowel(str1):\n",
    "    if str1=='a' or str1=='e' or str1=='i' or str1=='o' or str1=='u':\n",
    "        return True\n",
    "    else: return False\n",
    "\n",
    "str1= input(\"Enter a character to check it's a vowel or not?\\t\")\n",
    "check_vowel(str1)"
   ]
  }
 ],
 "metadata": {
  "kernelspec": {
   "display_name": "Python 3",
   "language": "python",
   "name": "python3"
  },
  "language_info": {
   "codemirror_mode": {
    "name": "ipython",
    "version": 3
   },
   "file_extension": ".py",
   "mimetype": "text/x-python",
   "name": "python",
   "nbconvert_exporter": "python",
   "pygments_lexer": "ipython3",
   "version": "3.7.6"
  }
 },
 "nbformat": 4,
 "nbformat_minor": 4
}
